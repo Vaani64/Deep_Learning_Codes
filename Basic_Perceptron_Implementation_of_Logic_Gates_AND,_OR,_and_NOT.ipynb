{
  "nbformat": 4,
  "nbformat_minor": 0,
  "metadata": {
    "colab": {
      "provenance": []
    },
    "kernelspec": {
      "name": "python3",
      "display_name": "Python 3"
    },
    "language_info": {
      "name": "python"
    }
  },
  "cells": [
    {
      "cell_type": "code",
      "source": [
        "import numpy as np\n",
        "\n",
        "def unitStep(v):\n",
        "    return 1 if v >= 0 else 0\n",
        "\n",
        "def perceptronModel(x, w, b):\n",
        "    v = np.dot(w, x) + b\n",
        "    return unitStep(v)\n",
        "\n",
        "def NOT_logicFunction(x):\n",
        "    wNOT = -1\n",
        "    bNOT = 0.5\n",
        "    return perceptronModel(x, wNOT, bNOT)\n",
        "\n",
        "def AND_logicFunction(x):\n",
        "    w = np.array([1, 1])\n",
        "    bAND = -1.5\n",
        "    return perceptronModel(x, w, bAND)\n",
        "\n",
        "def OR_logicFunction(x):\n",
        "    w = np.array([1, 1])\n",
        "    bOR = -0.5\n",
        "    return perceptronModel(x, w, bOR)\n",
        "\n",
        "def XOR_logicFunction(x):\n",
        "    y1 = AND_logicFunction(x)\n",
        "    y2 = OR_logicFunction(x)\n",
        "    y3 = NOT_logicFunction(y1)\n",
        "    final_x = np.array([y2, y3])\n",
        "    finalOutput = AND_logicFunction(final_x)\n",
        "    return finalOutput\n",
        "\n",
        "def update_weights(w, x, target, learning_rate=0.1):\n",
        "    prediction = perceptronModel(x, w, 0)\n",
        "    error = target - prediction\n",
        "    w += learning_rate * error * x\n",
        "    return w\n",
        "\n",
        "def train_AND_logic(learning_rate=0.1, epochs=5):\n",
        "    w = np.array([-0.5, -0.5])\n",
        "    b = -1.5\n",
        "    training_data = [\n",
        "        (np.array([0, 0]), 0),\n",
        "        (np.array([0, 1]), 0),\n",
        "        (np.array([1, 0]), 0),\n",
        "        (np.array([1, 1]), 1)\n",
        "    ]\n",
        "\n",
        "    for epoch in range(epochs):\n",
        "        for x, target in training_data:\n",
        "            w = update_weights(w, x, target, learning_rate)\n",
        "\n",
        "    return w\n",
        "\n",
        "test1 = np.array([0, 0])\n",
        "test2 = np.array([0, 1])\n",
        "test3 = np.array([1, 0])\n",
        "test4 = np.array([1, 1])\n",
        "\n",
        "print(\"XOR(0, 0) =\", XOR_logicFunction(test1))\n",
        "print(\"XOR(0, 1) =\", XOR_logicFunction(test2))\n",
        "print(\"XOR(1, 0) =\", XOR_logicFunction(test3))\n",
        "print(\"XOR(1, 1) =\", XOR_logicFunction(test4))\n",
        "\n",
        "final_weights = train_AND_logic(learning_rate=0.2, epochs=3)\n",
        "print(\"Final weights for AND logic:\", final_weights)\n"
      ],
      "metadata": {
        "colab": {
          "base_uri": "https://localhost:8080/"
        },
        "id": "PId03EAghPt5",
        "outputId": "ebedd997-2413-4366-cb30-77a3c11b0daa"
      },
      "execution_count": 9,
      "outputs": [
        {
          "output_type": "stream",
          "name": "stdout",
          "text": [
            "XOR(0, 0) = 0\n",
            "XOR(0, 1) = 1\n",
            "XOR(1, 0) = 1\n",
            "XOR(1, 1) = 0\n",
            "Final weights for AND logic: [0.1 0.1]\n"
          ]
        }
      ]
    }
  ]
}